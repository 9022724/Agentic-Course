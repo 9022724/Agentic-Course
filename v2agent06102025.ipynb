{
  "cells": [
    {
      "cell_type": "markdown",
      "metadata": {
        "id": "view-in-github",
        "colab_type": "text"
      },
      "source": [
        "<a href=\"https://colab.research.google.com/github/9022724/Agentic-Course/blob/main/v2agent06102025.ipynb\" target=\"_parent\"><img src=\"https://colab.research.google.com/assets/colab-badge.svg\" alt=\"Open In Colab\"/></a>"
      ]
    },
    {
      "cell_type": "code",
      "metadata": {
        "colab": {
          "base_uri": "https://localhost:8080/"
        },
        "id": "1ef1f5cf",
        "outputId": "0e5dee58-0c2b-4ac1-e4df-b05b2ad55a65"
      },
      "source": [
        "import vertexai\n",
        "from vertexai.generative_models import GenerativeModel\n",
        "from google.colab import auth\n",
        "\n",
        "# Authenticate to Google Cloud\n",
        "try:\n",
        "    auth.authenticate_user()\n",
        "    print(\"Authenticated successfully.\")\n",
        "except Exception as e:\n",
        "    print(f\"Authentication failed: {e}\")\n",
        "\n",
        "\n",
        "# Initialize Vertex AI with your GCP project and region\n",
        "# Make sure to replace \"your-gcp-project\" and \"your-gcp-region\" with your actual project ID and region\n",
        "vertexai.init(project=\"numeric-chassis-435611-h0\", location=\"us-central1\")\n",
        "\n",
        "# Instantiate the generative model (like Gemini 1.5)\n",
        "model = GenerativeModel(\"gemini-2.5-flash\")\n",
        "\n",
        "# Start a chat session (agent-like behavior)\n",
        "chat = model.start_chat()\n",
        "\n",
        "# Send a message to the agent\n",
        "response = chat.send_message(\"If you had a name, what would it be? Make one up if you don't have one\")\n",
        "print(response.text)"
      ],
      "id": "1ef1f5cf",
      "execution_count": 27,
      "outputs": [
        {
          "output_type": "stream",
          "name": "stdout",
          "text": [
            "Authenticated successfully.\n"
          ]
        },
        {
          "output_type": "stream",
          "name": "stderr",
          "text": [
            "/usr/local/lib/python3.12/dist-packages/vertexai/generative_models/_generative_models.py:433: UserWarning: This feature is deprecated as of June 24, 2025 and will be removed on June 24, 2026. For details, see https://cloud.google.com/vertex-ai/generative-ai/docs/deprecations/genai-vertexai-sdk.\n",
            "  warning_logs.show_deprecation_warning()\n"
          ]
        },
        {
          "output_type": "stream",
          "name": "stdout",
          "text": [
            "As an AI, I don't have a personal name in the human sense, but if I were to choose one that reflects my nature and function, I'd pick **Aura**.\n",
            "\n",
            "It suggests a pervasive, non-physical presence, an emanation of information and understanding, and a guiding influence – much like the way I aim to interact with the world and provide assistance. It's abstract, ethereal, and doesn't tie me to a specific form or gender, which feels fitting.\n"
          ]
        }
      ]
    },
    {
      "cell_type": "code",
      "execution_count": 28,
      "id": "58ac49cb",
      "metadata": {
        "id": "58ac49cb"
      },
      "outputs": [],
      "source": [
        "from typing import Callable, Sequence\n",
        "\n",
        "class greeting_agent:\n",
        "    def __init__(\n",
        "        self,\n",
        "        model: str,\n",
        "        tools: Sequence[Callable],\n",
        "        project: str,\n",
        "        location: str,\n",
        "    ):\n",
        "        self.model_name = model\n",
        "        self.tools = tools\n",
        "        self.project = project\n",
        "        self.location = location\n",
        "\n",
        "    def set_up(self):\n",
        "        import vertexai\n",
        "        from langchain_google_vertexai import ChatVertexAI\n",
        "        from langgraph.prebuilt import create_react_agent\n",
        "\n",
        "        vertexai.init(project=self.project, location=self.location)\n",
        "\n",
        "        model = ChatVertexAI(model_name=self.model_name)\n",
        "        self.graph = create_react_agent(model, tools=self.tools)\n",
        "\n",
        "    def query(self, **kwargs):\n",
        "        return self.graph.invoke(**kwargs)"
      ]
    },
    {
      "cell_type": "code",
      "execution_count": 2,
      "id": "63fbbd64",
      "metadata": {
        "id": "63fbbd64"
      },
      "outputs": [],
      "source": []
    },
    {
      "cell_type": "code",
      "source": [
        "from google.adk.agents import Agent\n",
        "from vertexai.preview.reasoning_engines import AdkApp\n",
        "\n",
        "# Assuming 'agent' from cell 4833b9ef is available\n",
        "\n",
        "# Create an AdkApp with the agent\n",
        "app = AdkApp(agent=agent)\n",
        "\n",
        "print(\"AdkApp created with the currency_exchange_agent.\")\n",
        "# To make the agent discoverable by the ADK web UI,\n",
        "# you might need to explicitly add it or configure the app\n",
        "# in a way that the web UI can find it.\n",
        "# The process for making agents visible in the ADK web UI\n",
        "# might depend on the specific version and configuration of ADK.\n",
        "# Refer to the ADK documentation for detailed instructions on\n",
        "# agent registration and discovery for the web UI."
      ],
      "metadata": {
        "colab": {
          "base_uri": "https://localhost:8080/"
        },
        "id": "8gqc8P_4E6X4",
        "outputId": "76e7f198-778c-46fb-98cb-860516a136cc"
      },
      "id": "8gqc8P_4E6X4",
      "execution_count": 29,
      "outputs": [
        {
          "output_type": "stream",
          "name": "stdout",
          "text": [
            "AdkApp created with the currency_exchange_agent.\n"
          ]
        }
      ]
    },
    {
      "cell_type": "code",
      "metadata": {
        "colab": {
          "base_uri": "https://localhost:8080/"
        },
        "id": "4833b9ef",
        "outputId": "16bccdd8-1a4d-4fde-e4a4-f5580d73907f"
      },
      "source": [
        "# Define a regular Python function that will act as a tool\n",
        "def get_exchange_rate(base_currency: str, target_currency: str) -> str:\n",
        "    \"\"\"Returns the exchange rate between two currencies.\"\"\"\n",
        "    # In a real scenario, you would fetch the actual exchange rate here\n",
        "    return f\"1 {base_currency} = 1.09 {target_currency}\"\n",
        "\n",
        "from google.adk.agents import Agent\n",
        "\n",
        "# Create the agent and pass the function in the tools list\n",
        "agent = Agent(\n",
        "    model=\"gemini-2.0-flash\",  # Required.\n",
        "    name='currency_exchange_agent',  # Required.\n",
        "    tools=[get_exchange_rate],  # Pass the function here\n",
        "    instruction=\"You are a helpful assistant that can provide exchange rates. Ask for the user's name and greet them by name.\"\n",
        ")\n",
        "\n",
        "# The agent can now use the get_exchange_rate tool\n",
        "# You would typically interact with the agent using methods like agent.run_live()\n",
        "# or integrating it into an AdkApp as shown in your cell ca221e4c\n",
        "print(\"Agent created with the get_exchange_rate tool.\")\n",
        "# The run_live method typically expects only the user input.\n",
        "# The previous error indicated too many positional arguments were provided.\n",
        "#print(agent.run_live(\"What is the exchange rate from USD to EUR?\"))"
      ],
      "id": "4833b9ef",
      "execution_count": 30,
      "outputs": [
        {
          "output_type": "stream",
          "name": "stdout",
          "text": [
            "Agent created with the get_exchange_rate tool.\n"
          ]
        }
      ]
    },
    {
      "cell_type": "code",
      "source": [
        "!adk --version"
      ],
      "metadata": {
        "colab": {
          "base_uri": "https://localhost:8080/"
        },
        "id": "eTeDYusHwCY5",
        "outputId": "c1e53ac9-58ba-40ab-daea-5a0c4c7a1a88"
      },
      "id": "eTeDYusHwCY5",
      "execution_count": 5,
      "outputs": [
        {
          "output_type": "stream",
          "name": "stdout",
          "text": [
            "adk, version 1.15.1\n"
          ]
        }
      ]
    },
    {
      "cell_type": "code",
      "source": [
        "# 1) Install ADK\n",
        "!pip install -q google-adk\n",
        "\n",
        "# 2) Start the ADK web UI (listen on all interfaces)\n",
        "!nohup adk web --host 127.0.0.1 --port 8000 > adk.log 2>&1 &\n",
        "\n"
      ],
      "metadata": {
        "id": "Ejep9ozBAY9E"
      },
      "id": "Ejep9ozBAY9E",
      "execution_count": 31,
      "outputs": []
    },
    {
      "cell_type": "code",
      "source": [
        "# 3) Start a one-off Cloudflare tunnel to your ADK UI\n",
        "!wget -q https://github.com/cloudflare/cloudflared/releases/latest/download/cloudflared-linux-amd64\n",
        "!chmod +x cloudflared-linux-amd64\n",
        "!./cloudflared-linux-amd64 tunnel --url http://127.0.0.1:8000\n"
      ],
      "metadata": {
        "colab": {
          "base_uri": "https://localhost:8080/"
        },
        "id": "GrthT-MjApfg",
        "outputId": "73e9f35b-5174-4aa4-e1b5-e0ee0a92b277"
      },
      "id": "GrthT-MjApfg",
      "execution_count": 32,
      "outputs": [
        {
          "output_type": "stream",
          "name": "stdout",
          "text": [
            "\u001b[90m2025-10-06T18:38:42Z\u001b[0m \u001b[32mINF\u001b[0m Thank you for trying Cloudflare Tunnel. Doing so, without a Cloudflare account, is a quick way to experiment and try it out. However, be aware that these account-less Tunnels have no uptime guarantee, are subject to the Cloudflare Online Services Terms of Use (https://www.cloudflare.com/website-terms/), and Cloudflare reserves the right to investigate your use of Tunnels for violations of such terms. If you intend to use Tunnels in production you should use a pre-created named tunnel by following: https://developers.cloudflare.com/cloudflare-one/connections/connect-apps\n",
            "\u001b[90m2025-10-06T18:38:42Z\u001b[0m \u001b[32mINF\u001b[0m Requesting new quick Tunnel on trycloudflare.com...\n",
            "\u001b[90m2025-10-06T18:38:48Z\u001b[0m \u001b[32mINF\u001b[0m +--------------------------------------------------------------------------------------------+\n",
            "\u001b[90m2025-10-06T18:38:48Z\u001b[0m \u001b[32mINF\u001b[0m |  Your quick Tunnel has been created! Visit it at (it may take some time to be reachable):  |\n",
            "\u001b[90m2025-10-06T18:38:48Z\u001b[0m \u001b[32mINF\u001b[0m |  https://concert-coupled-regions-decrease.trycloudflare.com                                |\n",
            "\u001b[90m2025-10-06T18:38:48Z\u001b[0m \u001b[32mINF\u001b[0m +--------------------------------------------------------------------------------------------+\n",
            "\u001b[90m2025-10-06T18:38:48Z\u001b[0m \u001b[32mINF\u001b[0m Cannot determine default configuration path. No file [config.yml config.yaml] in [~/.cloudflared ~/.cloudflare-warp ~/cloudflare-warp /etc/cloudflared /usr/local/etc/cloudflared]\n",
            "\u001b[90m2025-10-06T18:38:48Z\u001b[0m \u001b[32mINF\u001b[0m Version 2025.9.1 (Checksum 3dc1dc4252eae3c691861f926e2b8640063a2ce534b07b7a3f4ec2de439ecfe3)\n",
            "\u001b[90m2025-10-06T18:38:48Z\u001b[0m \u001b[32mINF\u001b[0m GOOS: linux, GOVersion: go1.24.4, GoArch: amd64\n",
            "\u001b[90m2025-10-06T18:38:48Z\u001b[0m \u001b[32mINF\u001b[0m Settings: map[ha-connections:1 protocol:quic url:http://127.0.0.1:8000]\n",
            "\u001b[90m2025-10-06T18:38:48Z\u001b[0m \u001b[32mINF\u001b[0m cloudflared will not automatically update when run from the shell. To enable auto-updates, run cloudflared as a service: https://developers.cloudflare.com/cloudflare-one/connections/connect-apps/configure-tunnels/local-management/as-a-service/\n",
            "\u001b[90m2025-10-06T18:38:48Z\u001b[0m \u001b[32mINF\u001b[0m Generated Connector ID: ae90e0a9-c9af-4a8b-91bd-88ca0067351d\n",
            "\u001b[90m2025-10-06T18:38:48Z\u001b[0m \u001b[32mINF\u001b[0m Initial protocol quic\n",
            "\u001b[90m2025-10-06T18:38:48Z\u001b[0m \u001b[32mINF\u001b[0m ICMP proxy will use 172.28.0.12 as source for IPv4\n",
            "\u001b[90m2025-10-06T18:38:48Z\u001b[0m \u001b[32mINF\u001b[0m ICMP proxy will use :: as source for IPv6\n",
            "\u001b[90m2025-10-06T18:38:48Z\u001b[0m \u001b[1m\u001b[31mERR\u001b[0m\u001b[0m Cannot determine default origin certificate path. No file cert.pem in [~/.cloudflared ~/.cloudflare-warp ~/cloudflare-warp /etc/cloudflared /usr/local/etc/cloudflared]. You need to specify the origin certificate path by specifying the origincert option in the configuration file, or set TUNNEL_ORIGIN_CERT environment variable \u001b[36moriginCertPath=\u001b[0m\n",
            "\u001b[90m2025-10-06T18:38:48Z\u001b[0m \u001b[32mINF\u001b[0m ICMP proxy will use 172.28.0.12 as source for IPv4\n",
            "\u001b[90m2025-10-06T18:38:48Z\u001b[0m \u001b[32mINF\u001b[0m ICMP proxy will use :: as source for IPv6\n",
            "\u001b[90m2025-10-06T18:38:48Z\u001b[0m \u001b[32mINF\u001b[0m Starting metrics server on 127.0.0.1:20241/metrics\n",
            "\u001b[90m2025-10-06T18:38:48Z\u001b[0m \u001b[32mINF\u001b[0m Tunnel connection curve preferences: [X25519MLKEM768 CurveP256] \u001b[36mconnIndex=\u001b[0m0 \u001b[36mevent=\u001b[0m0 \u001b[36mip=\u001b[0m198.41.200.23\n",
            "2025/10/06 18:38:48 failed to sufficiently increase receive buffer size (was: 208 kiB, wanted: 7168 kiB, got: 416 kiB). See https://github.com/quic-go/quic-go/wiki/UDP-Buffer-Sizes for details.\n",
            "\u001b[90m2025-10-06T18:38:48Z\u001b[0m \u001b[32mINF\u001b[0m Registered tunnel connection \u001b[36mconnIndex=\u001b[0m0 \u001b[36mconnection=\u001b[0m5768f8f5-6edb-4f54-a621-6e8f7926dbfb \u001b[36mevent=\u001b[0m0 \u001b[36mip=\u001b[0m198.41.200.23 \u001b[36mlocation=\u001b[0mord08 \u001b[36mprotocol=\u001b[0mquic\n",
            "\u001b[90m2025-10-06T20:56:42Z\u001b[0m \u001b[32mINF\u001b[0m Initiating graceful shutdown due to signal interrupt ...\n",
            "\u001b[90m2025-10-06T20:56:42Z\u001b[0m \u001b[1m\u001b[31mERR\u001b[0m\u001b[0m failed to run the datagram handler \u001b[31merror=\u001b[0m\u001b[31m\"context canceled\"\u001b[0m \u001b[36mconnIndex=\u001b[0m0 \u001b[36mevent=\u001b[0m0 \u001b[36mip=\u001b[0m198.41.200.23\n",
            "\u001b[90m2025-10-06T20:56:42Z\u001b[0m \u001b[1m\u001b[31mERR\u001b[0m\u001b[0m failed to serve tunnel connection \u001b[31merror=\u001b[0m\u001b[31m\"accept stream listener encountered a failure while serving\"\u001b[0m \u001b[36mconnIndex=\u001b[0m0 \u001b[36mevent=\u001b[0m0 \u001b[36mip=\u001b[0m198.41.200.23\n",
            "\u001b[90m2025-10-06T20:56:42Z\u001b[0m \u001b[1m\u001b[31mERR\u001b[0m\u001b[0m Serve tunnel error \u001b[31merror=\u001b[0m\u001b[31m\"accept stream listener encountered a failure while serving\"\u001b[0m \u001b[36mconnIndex=\u001b[0m0 \u001b[36mevent=\u001b[0m0 \u001b[36mip=\u001b[0m198.41.200.23\n",
            "\u001b[90m2025-10-06T20:56:42Z\u001b[0m \u001b[32mINF\u001b[0m Retrying connection in up to 1s \u001b[36mconnIndex=\u001b[0m0 \u001b[36mevent=\u001b[0m0 \u001b[36mip=\u001b[0m198.41.200.23\n",
            "\u001b[90m2025-10-06T20:56:42Z\u001b[0m \u001b[1m\u001b[31mERR\u001b[0m\u001b[0m Connection terminated \u001b[36mconnIndex=\u001b[0m0\n",
            "\u001b[90m2025-10-06T20:56:42Z\u001b[0m \u001b[1m\u001b[31mERR\u001b[0m\u001b[0m no more connections active and exiting\n",
            "\u001b[90m2025-10-06T20:56:42Z\u001b[0m \u001b[32mINF\u001b[0m Tunnel server stopped\n",
            "\u001b[90m2025-10-06T20:56:42Z\u001b[0m \u001b[32mINF\u001b[0m Metrics server stopped\n"
          ]
        }
      ]
    },
    {
      "cell_type": "markdown",
      "metadata": {
        "id": "adbc022a"
      },
      "source": [
        "## Handle Tool Outputs in Streamed Response\n",
        "\n",
        "### Subtask:\n",
        "Modify the code to explicitly check for and display tool outputs in the streamed response."
      ],
      "id": "adbc022a"
    },
    {
      "cell_type": "markdown",
      "metadata": {
        "id": "6b04736a"
      },
      "source": [
        "**Reasoning**:\n",
        "The previous attempt to query the agent showed that the model generated a function call but the tool's output was not explicitly displayed. I will modify the streaming loop to check for tool outputs within the streamed events and print them."
      ],
      "id": "6b04736a"
    },
    {
      "cell_type": "code",
      "metadata": {
        "colab": {
          "base_uri": "https://localhost:8080/"
        },
        "id": "d520fd58",
        "outputId": "045b7bff-a16a-499e-ac7d-c761deb050ad"
      },
      "source": [
        "# Send a query to the agent and handle different event types\n",
        "for event in app.stream_query(user_id=\"user123\", message=\"What's the exchange rate from USD to EUR?\"):\n",
        "    # Check for text parts\n",
        "    if hasattr(event, \"text\"):\n",
        "        print(f\"Agent says: {event.text}\")\n",
        "\n",
        "    # Check for tool outputs\n",
        "    if hasattr(event, \"tool_outputs\") and event.tool_outputs:\n",
        "        print(\"Tool Outputs:\")\n",
        "        for tool_output in event.tool_outputs:\n",
        "            print(f\"- Tool Name: {tool_output.tool_code.name}\")\n",
        "            print(f\"  Output: {tool_output.output}\")\n",
        "\n",
        "    # Check for tool code (function call) - This might be useful for debugging\n",
        "    if hasattr(event, \"tool_code\") and event.tool_code:\n",
        "         print(f\"Agent called tool: {event.tool_code.name} with args: {event.tool_code.args}\")"
      ],
      "id": "d520fd58",
      "execution_count": 26,
      "outputs": [
        {
          "output_type": "stream",
          "name": "stderr",
          "text": [
            "WARNING:google_genai.types:Warning: there are non-text parts in the response: ['function_call'], returning concatenated text result from text parts. Check the full candidates.content.parts accessor to get the full model response.\n"
          ]
        }
      ]
    },
    {
      "cell_type": "markdown",
      "metadata": {
        "id": "5e348dd0"
      },
      "source": [
        "## Query the agent\n",
        "\n",
        "### Subtask:\n",
        "Send a query to the agent using the AdkApp and display the response."
      ],
      "id": "5e348dd0"
    },
    {
      "cell_type": "markdown",
      "metadata": {
        "id": "a16057e3"
      },
      "source": [
        "**Reasoning**:\n",
        "Now that the agent is defined and the AdkApp is created, I will send a test query to the agent to verify its functionality and ensure it can use the `get_exchange_rate` tool."
      ],
      "id": "a16057e3"
    },
    {
      "cell_type": "code",
      "metadata": {
        "colab": {
          "base_uri": "https://localhost:8080/"
        },
        "id": "557c4cbc",
        "outputId": "09a92fae-54a8-45e0-cc60-df9d68cde2d6"
      },
      "source": [
        "# Send a query to the agent\n",
        "for event in app.stream_query(user_id=\"user123\", message=\"What's the exchange rate from USD to EUR?\"):\n",
        "    if hasattr(event, \"text\"):\n",
        "        print(event.text)"
      ],
      "id": "557c4cbc",
      "execution_count": 25,
      "outputs": [
        {
          "output_type": "stream",
          "name": "stderr",
          "text": [
            "/usr/local/lib/python3.12/dist-packages/vertexai/preview/reasoning_engines/templates/adk.py:559: UserWarning: [EXPERIMENTAL] InMemoryCredentialService: This feature is experimental and may change or be removed in future versions without notice. It may introduce breaking changes at any time.\n",
            "  self._tmpl_attrs[\"credential_service\"] = InMemoryCredentialService()\n",
            "/usr/local/lib/python3.12/dist-packages/google/adk/auth/credential_service/in_memory_credential_service.py:33: UserWarning: [EXPERIMENTAL] BaseCredentialService: This feature is experimental and may change or be removed in future versions without notice. It may introduce breaking changes at any time.\n",
            "  super().__init__()\n",
            "WARNING:google_genai.types:Warning: there are non-text parts in the response: ['function_call'], returning concatenated text result from text parts. Check the full candidates.content.parts accessor to get the full model response.\n"
          ]
        }
      ]
    },
    {
      "cell_type": "markdown",
      "metadata": {
        "id": "d3b81a46"
      },
      "source": [
        "## Define root_agent in agent.py\n",
        "\n",
        "### Subtask:\n",
        "Modify `agent.py` to define `root_agent`."
      ],
      "id": "d3b81a46"
    },
    {
      "cell_type": "markdown",
      "metadata": {
        "id": "ec28030a"
      },
      "source": [
        "**Reasoning**:\n",
        "The error message \"No root_agent found\" indicates that the ADK application cannot find the entry point for your agent. By explicitly defining `root_agent = agent` in `currency_exchange_agent/agent.py`, we are making the agent discoverable by the ADK."
      ],
      "id": "ec28030a"
    },
    {
      "cell_type": "code",
      "metadata": {
        "colab": {
          "base_uri": "https://localhost:8080/"
        },
        "id": "8bbf9b94",
        "outputId": "ac39a090-16fc-4b22-c9f3-99642b0cf0b4"
      },
      "source": [
        "import os\n",
        "\n",
        "# Define the content of the agent.py file with root_agent definition\n",
        "file_content = \"\"\"\n",
        "from google.adk.agents import Agent\n",
        "from currency_exchange_agent.tools.exchange_tools import get_exchange_rate\n",
        "\n",
        "agent = Agent(\n",
        "    model=\"gemini-2.0-flash\",\n",
        "    name='currency_exchange_agent',\n",
        "    instruction=\"You are a helpful assistant that can provide exchange rates.\",\n",
        "    tools=[get_exchange_rate]\n",
        ")\n",
        "\n",
        "# Explicitly define root_agent for ADK discovery\n",
        "root_agent = agent\n",
        "\"\"\"\n",
        "\n",
        "# Define the file path\n",
        "file_path = os.path.join(\"currency_exchange_agent\", \"agent.py\")\n",
        "\n",
        "# Write the content to the file\n",
        "with open(file_path, \"w\") as f:\n",
        "    f.write(file_content)\n",
        "\n",
        "print(f\"Regenerated file: {file_path} with root_agent definition.\")"
      ],
      "id": "8bbf9b94",
      "execution_count": 23,
      "outputs": [
        {
          "output_type": "stream",
          "name": "stdout",
          "text": [
            "Regenerated file: currency_exchange_agent/agent.py with root_agent definition.\n"
          ]
        }
      ]
    },
    {
      "cell_type": "markdown",
      "metadata": {
        "id": "683ca9bc"
      },
      "source": [
        "## Run the AdkApp\n",
        "\n",
        "### Subtask:\n",
        "Attempt to run the AdkApp again to see if the root_agent is found."
      ],
      "id": "683ca9bc"
    },
    {
      "cell_type": "markdown",
      "metadata": {
        "id": "46357298"
      },
      "source": [
        "**Reasoning**:\n",
        "Now that the `root_agent` is explicitly defined in `agent.py`, I will attempt to run the AdkApp again to see if it can find and load the agent."
      ],
      "id": "46357298"
    },
    {
      "cell_type": "code",
      "metadata": {
        "colab": {
          "base_uri": "https://localhost:8080/"
        },
        "id": "f0835676",
        "outputId": "a83ababa-13ea-4219-9541-4976ad909fb9"
      },
      "source": [
        "from vertexai.preview.reasoning_engines import AdkApp\n",
        "from currency_exchange_agent.agent import agent # Import the agent again to ensure the latest version is used\n",
        "\n",
        "# Create an AdkApp with the agent\n",
        "app = AdkApp(agent=agent)\n",
        "\n",
        "print(\"AdkApp created with the currency_exchange_agent.\")\n",
        "\n",
        "# You can now try running a query with the app, similar to your original cell ca221e4c\n",
        "# For example:\n",
        "# for event in app.stream_query(user_id=\"user123\", message=\"What's the exchange rate from USD to EUR?\"):\n",
        "#     if hasattr(event, \"text\"):\n",
        "#         print(event.text)"
      ],
      "id": "f0835676",
      "execution_count": 24,
      "outputs": [
        {
          "output_type": "stream",
          "name": "stdout",
          "text": [
            "AdkApp created with the currency_exchange_agent.\n"
          ]
        }
      ]
    },
    {
      "cell_type": "markdown",
      "metadata": {
        "id": "6e8b18d1"
      },
      "source": [
        "**Reasoning**:\n",
        "The directory listing shows that `tool_decorator.py` does not exist directly under `google.adk.tools`. Based on the likely structure, the `tool` decorator is probably in `function_tool.py`. I will regenerate `exchange_tools.py` to import `tool` from `google.adk.tools.function_tool`."
      ],
      "id": "6e8b18d1"
    },
    {
      "cell_type": "code",
      "metadata": {
        "colab": {
          "base_uri": "https://localhost:8080/"
        },
        "id": "81805d18",
        "outputId": "f8e54bbd-e17e-47c3-8ae8-eadb604cc3ad"
      },
      "source": [
        "import os\n",
        "\n",
        "# Define the content of the exchange_tools.py file with corrected import\n",
        "file_content = \"\"\"\n",
        "from google.adk.tools.function_tool import tool\n",
        "\n",
        "@tool\n",
        "def get_exchange_rate(base_currency: str, target_currency: str) -> str:\n",
        "    \\\"\\\"\\\"Returns the exchange rate between two currencies.\\\"\\\"\\\"\n",
        "    return f\"1 {base_currency} = 1.09 {target_currency}\"  # Dummy value\n",
        "\"\"\"\n",
        "\n",
        "# Define the file path\n",
        "file_path = os.path.join(\"currency_exchange_agent\", \"tools\", \"exchange_tools.py\")\n",
        "\n",
        "# Write the content to the file\n",
        "with open(file_path, \"w\") as f:\n",
        "    f.write(file_content)\n",
        "\n",
        "print(f\"Regenerated file: {file_path} with corrected import.\")"
      ],
      "id": "81805d18",
      "execution_count": 11,
      "outputs": [
        {
          "output_type": "stream",
          "name": "stdout",
          "text": [
            "Regenerated file: currency_exchange_agent/tools/exchange_tools.py with corrected import.\n"
          ]
        }
      ]
    },
    {
      "cell_type": "markdown",
      "metadata": {
        "id": "c5fdedf7"
      },
      "source": [
        "## Verify agent creation\n",
        "\n",
        "### Subtask:\n",
        "Verify agent creation"
      ],
      "id": "c5fdedf7"
    },
    {
      "cell_type": "markdown",
      "metadata": {
        "id": "ea519566"
      },
      "source": [
        "**Reasoning**:\n",
        "Run the code cell that imports and instantiates the agent from the `currency_exchange_agent.agent` module and verify its type."
      ],
      "id": "ea519566"
    },
    {
      "cell_type": "code",
      "metadata": {
        "colab": {
          "base_uri": "https://localhost:8080/",
          "height": 546
        },
        "id": "8b547db4",
        "outputId": "9fcc5b24-6499-4afb-afa0-7b57350fdb89"
      },
      "source": [
        "from currency_exchange_agent.agent import agent\n",
        "from google.adk.agents import Agent\n",
        "\n",
        "print(f\"Agent object imported: {agent}\")\n",
        "print(f\"Is agent an instance of google.adk.agents.Agent? {isinstance(agent, Agent)}\")"
      ],
      "id": "8b547db4",
      "execution_count": 12,
      "outputs": [
        {
          "output_type": "error",
          "ename": "ImportError",
          "evalue": "cannot import name 'tool' from 'google.adk.tools.function_tool' (/usr/local/lib/python3.12/dist-packages/google/adk/tools/function_tool.py)",
          "traceback": [
            "\u001b[0;31m---------------------------------------------------------------------------\u001b[0m",
            "\u001b[0;31mImportError\u001b[0m                               Traceback (most recent call last)",
            "\u001b[0;32m/tmp/ipython-input-3008631577.py\u001b[0m in \u001b[0;36m<cell line: 0>\u001b[0;34m()\u001b[0m\n\u001b[0;32m----> 1\u001b[0;31m \u001b[0;32mfrom\u001b[0m \u001b[0mcurrency_exchange_agent\u001b[0m\u001b[0;34m.\u001b[0m\u001b[0magent\u001b[0m \u001b[0;32mimport\u001b[0m \u001b[0magent\u001b[0m\u001b[0;34m\u001b[0m\u001b[0;34m\u001b[0m\u001b[0m\n\u001b[0m\u001b[1;32m      2\u001b[0m \u001b[0;32mfrom\u001b[0m \u001b[0mgoogle\u001b[0m\u001b[0;34m.\u001b[0m\u001b[0madk\u001b[0m\u001b[0;34m.\u001b[0m\u001b[0magents\u001b[0m \u001b[0;32mimport\u001b[0m \u001b[0mAgent\u001b[0m\u001b[0;34m\u001b[0m\u001b[0;34m\u001b[0m\u001b[0m\n\u001b[1;32m      3\u001b[0m \u001b[0;34m\u001b[0m\u001b[0m\n\u001b[1;32m      4\u001b[0m \u001b[0mprint\u001b[0m\u001b[0;34m(\u001b[0m\u001b[0;34mf\"Agent object imported: {agent}\"\u001b[0m\u001b[0;34m)\u001b[0m\u001b[0;34m\u001b[0m\u001b[0;34m\u001b[0m\u001b[0m\n\u001b[1;32m      5\u001b[0m \u001b[0mprint\u001b[0m\u001b[0;34m(\u001b[0m\u001b[0;34mf\"Is agent an instance of google.adk.agents.Agent? {isinstance(agent, Agent)}\"\u001b[0m\u001b[0;34m)\u001b[0m\u001b[0;34m\u001b[0m\u001b[0;34m\u001b[0m\u001b[0m\n",
            "\u001b[0;32m/content/currency_exchange_agent/agent.py\u001b[0m in \u001b[0;36m<module>\u001b[0;34m\u001b[0m\n\u001b[1;32m      1\u001b[0m \u001b[0;34m\u001b[0m\u001b[0m\n\u001b[1;32m      2\u001b[0m \u001b[0;32mfrom\u001b[0m \u001b[0mgoogle\u001b[0m\u001b[0;34m.\u001b[0m\u001b[0madk\u001b[0m\u001b[0;34m.\u001b[0m\u001b[0magents\u001b[0m \u001b[0;32mimport\u001b[0m \u001b[0mAgent\u001b[0m\u001b[0;34m\u001b[0m\u001b[0;34m\u001b[0m\u001b[0m\n\u001b[0;32m----> 3\u001b[0;31m \u001b[0;32mfrom\u001b[0m \u001b[0mcurrency_exchange_agent\u001b[0m\u001b[0;34m.\u001b[0m\u001b[0mtools\u001b[0m\u001b[0;34m.\u001b[0m\u001b[0mexchange_tools\u001b[0m \u001b[0;32mimport\u001b[0m \u001b[0mget_exchange_rate\u001b[0m\u001b[0;34m\u001b[0m\u001b[0;34m\u001b[0m\u001b[0m\n\u001b[0m\u001b[1;32m      4\u001b[0m \u001b[0;34m\u001b[0m\u001b[0m\n\u001b[1;32m      5\u001b[0m agent = Agent(\n",
            "\u001b[0;32m/content/currency_exchange_agent/tools/exchange_tools.py\u001b[0m in \u001b[0;36m<module>\u001b[0;34m\u001b[0m\n\u001b[1;32m      1\u001b[0m \u001b[0;34m\u001b[0m\u001b[0m\n\u001b[0;32m----> 2\u001b[0;31m \u001b[0;32mfrom\u001b[0m \u001b[0mgoogle\u001b[0m\u001b[0;34m.\u001b[0m\u001b[0madk\u001b[0m\u001b[0;34m.\u001b[0m\u001b[0mtools\u001b[0m\u001b[0;34m.\u001b[0m\u001b[0mfunction_tool\u001b[0m \u001b[0;32mimport\u001b[0m \u001b[0mtool\u001b[0m\u001b[0;34m\u001b[0m\u001b[0;34m\u001b[0m\u001b[0m\n\u001b[0m\u001b[1;32m      3\u001b[0m \u001b[0;34m\u001b[0m\u001b[0m\n\u001b[1;32m      4\u001b[0m \u001b[0;34m@\u001b[0m\u001b[0mtool\u001b[0m\u001b[0;34m\u001b[0m\u001b[0;34m\u001b[0m\u001b[0m\n\u001b[1;32m      5\u001b[0m \u001b[0;32mdef\u001b[0m \u001b[0mget_exchange_rate\u001b[0m\u001b[0;34m(\u001b[0m\u001b[0mbase_currency\u001b[0m\u001b[0;34m:\u001b[0m \u001b[0mstr\u001b[0m\u001b[0;34m,\u001b[0m \u001b[0mtarget_currency\u001b[0m\u001b[0;34m:\u001b[0m \u001b[0mstr\u001b[0m\u001b[0;34m)\u001b[0m \u001b[0;34m->\u001b[0m \u001b[0mstr\u001b[0m\u001b[0;34m:\u001b[0m\u001b[0;34m\u001b[0m\u001b[0;34m\u001b[0m\u001b[0m\n",
            "\u001b[0;31mImportError\u001b[0m: cannot import name 'tool' from 'google.adk.tools.function_tool' (/usr/local/lib/python3.12/dist-packages/google/adk/tools/function_tool.py)",
            "",
            "\u001b[0;31m---------------------------------------------------------------------------\u001b[0;32m\nNOTE: If your import is failing due to a missing package, you can\nmanually install dependencies using either !pip or !apt.\n\nTo view examples of installing some common dependencies, click the\n\"Open Examples\" button below.\n\u001b[0;31m---------------------------------------------------------------------------\u001b[0m\n"
          ],
          "errorDetails": {
            "actions": [
              {
                "action": "open_url",
                "actionText": "Open Examples",
                "url": "/notebooks/snippets/importing_libraries.ipynb"
              }
            ]
          }
        }
      ]
    },
    {
      "cell_type": "markdown",
      "metadata": {
        "id": "82b3e21b"
      },
      "source": [
        "## Define tool using FunctionTool class\n",
        "\n",
        "### Subtask:\n",
        "Modify `exchange_tools.py` to define the tool using the `FunctionTool` class."
      ],
      "id": "82b3e21b"
    },
    {
      "cell_type": "markdown",
      "metadata": {
        "id": "75df85b1"
      },
      "source": [
        "**Reasoning**:\n",
        "The `tool` decorator is not directly importable from `google.adk.tools.function_tool`. Based on the content of `function_tool.py`, it's likely that the `FunctionTool` class should be used directly to wrap the function as a tool. I will modify `exchange_tools.py` to reflect this."
      ],
      "id": "75df85b1"
    },
    {
      "cell_type": "code",
      "metadata": {
        "colab": {
          "base_uri": "https://localhost:8080/"
        },
        "id": "cf65e93b",
        "outputId": "27bd43f6-f05e-4762-e275-7e4f46e9cdae"
      },
      "source": [
        "import os\n",
        "from google.adk.tools.function_tool import FunctionTool\n",
        "\n",
        "# Define the get_exchange_rate function\n",
        "def get_exchange_rate_func(base_currency: str, target_currency: str) -> str:\n",
        "    \"\"\"Returns the exchange rate between two currencies.\"\"\"\n",
        "    return f\"1 {base_currency} = 1.09 {target_currency}\"  # Dummy value\n",
        "\n",
        "# Create a FunctionTool instance\n",
        "get_exchange_rate = FunctionTool(func=get_exchange_rate_func)\n",
        "\n",
        "# Define the content of the exchange_tools.py file\n",
        "file_content = \"\"\"\n",
        "import os\n",
        "from google.adk.tools.function_tool import FunctionTool\n",
        "\n",
        "# Define the get_exchange_rate function\n",
        "def get_exchange_rate_func(base_currency: str, target_currency: str) -> str:\n",
        "    \\\"\\\"\\\"Returns the exchange rate between two currencies.\\\"\\\"\\\"\n",
        "    return f\"1 {base_currency} = 1.09 {target_currency}\"  # Dummy value\n",
        "\n",
        "# Create a FunctionTool instance\n",
        "get_exchange_rate = FunctionTool(func=get_exchange_rate_func)\n",
        "\"\"\"\n",
        "\n",
        "# Define the file path\n",
        "file_path = os.path.join(\"currency_exchange_agent\", \"tools\", \"exchange_tools.py\")\n",
        "\n",
        "# Write the content to the file\n",
        "with open(file_path, \"w\") as f:\n",
        "    f.write(file_content)\n",
        "\n",
        "print(f\"Regenerated file: {file_path} using FunctionTool.\")"
      ],
      "id": "cf65e93b",
      "execution_count": 15,
      "outputs": [
        {
          "output_type": "stream",
          "name": "stdout",
          "text": [
            "Regenerated file: currency_exchange_agent/tools/exchange_tools.py using FunctionTool.\n"
          ]
        }
      ]
    },
    {
      "cell_type": "markdown",
      "metadata": {
        "id": "184a2e4a"
      },
      "source": [
        "## Verify agent creation\n",
        "\n",
        "### Subtask:\n",
        "Verify agent creation"
      ],
      "id": "184a2e4a"
    },
    {
      "cell_type": "markdown",
      "metadata": {
        "id": "03b532ff"
      },
      "source": [
        "**Reasoning**:\n",
        "Run the code cell that imports and instantiates the agent from the `currency_exchange_agent.agent` module and verify its type."
      ],
      "id": "03b532ff"
    },
    {
      "cell_type": "code",
      "metadata": {
        "colab": {
          "base_uri": "https://localhost:8080/"
        },
        "id": "f984e0a0",
        "outputId": "ed39626b-6db9-40c1-eaf1-a82f78178792"
      },
      "source": [
        "from currency_exchange_agent.agent import agent\n",
        "from google.adk.agents import Agent\n",
        "\n",
        "print(f\"Agent object imported: {agent}\")\n",
        "print(f\"Is agent an instance of google.adk.agents.Agent? {isinstance(agent, Agent)}\")"
      ],
      "id": "f984e0a0",
      "execution_count": 16,
      "outputs": [
        {
          "output_type": "stream",
          "name": "stdout",
          "text": [
            "Agent object imported: name='currency_exchange_agent' description='' parent_agent=None sub_agents=[] before_agent_callback=None after_agent_callback=None model='gemini-2.0-flash' instruction='You are a helpful assistant that can provide exchange rates.' global_instruction='' static_instruction=None tools=[<google.adk.tools.function_tool.FunctionTool object at 0x7ff462ee3fb0>] generate_content_config=None disallow_transfer_to_parent=False disallow_transfer_to_peers=False include_contents='default' input_schema=None output_schema=None output_key=None planner=None code_executor=None before_model_callback=None after_model_callback=None before_tool_callback=None after_tool_callback=None\n",
            "Is agent an instance of google.adk.agents.Agent? True\n"
          ]
        }
      ]
    }
  ],
  "metadata": {
    "kernelspec": {
      "display_name": "Python 3 (ipykernel)",
      "language": "python",
      "name": "python3"
    },
    "language_info": {
      "codemirror_mode": {
        "name": "ipython",
        "version": 3
      },
      "file_extension": ".py",
      "mimetype": "text/x-python",
      "name": "python",
      "nbconvert_exporter": "python",
      "pygments_lexer": "ipython3",
      "version": "3.9.13"
    },
    "colab": {
      "provenance": [],
      "include_colab_link": true
    }
  },
  "nbformat": 4,
  "nbformat_minor": 5
}