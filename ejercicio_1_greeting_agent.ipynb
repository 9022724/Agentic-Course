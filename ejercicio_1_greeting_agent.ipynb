{
 "cells": [
  {
   "cell_type": "markdown",
   "id": "e675202c",
   "metadata": {},
   "source": [
    "## 🧠 ¿Qué hace el agente?\n",
    "\n",
    "Este agente se llama **greeting_agent** y su única tarea es recibir un mensaje del usuario y responder con un saludo personalizado. Es una forma básica de aprender a usar la ADK (Agent Development Kit) para crear agentes de IA conversacionales.\n",
    "\n",
    "En este caso, cuando iniciamos el agente, se abre una interfaz en el navegador donde podemos chatear con él. Al enviarle un mensaje como 'Hola', responde preguntando nuestro nombre."
   ]
  },
  {
   "cell_type": "markdown",
   "id": "348938e4",
   "metadata": {},
   "source": [
    "## 📘 ¿Qué aprendí?\n",
    "\n",
    "- Cómo crear un entorno virtual y activar paquetes de Python.\n",
    "- Cómo clonar un repositorio desde GitHub.\n",
    "- Cómo instalar dependencias con `pip install -r requirements.txt`.\n",
    "- Cómo ejecutar un agente básico con `adk web`.\n",
    "- Cómo interactuar con la interfaz de localhost.\n",
    "\n",
    "También aprendí cómo organizar y subir mi trabajo usando ramas de Git y GitHub."
   ]
  },
  {
   "cell_type": "markdown",
   "id": "d5edcae5",
   "metadata": {},
   "source": [
    "### ✅ ¿Cómo se ejecuta?\n",
    "\n",
    "Pasos para ejecutar el agente paso a paso:\n",
    "\n",
    "1. **Activa el entorno virtual** (desde la raíz del proyecto):\n",
    "\n",
    "   ```bash\n",
    "   source .venv/bin/activate\n",
    "   ```\n",
    "\n",
    "2. **Entra en la carpeta del agente**:\n",
    "\n",
    "   ```bash\n",
    "   cd 1-basic-agent\n",
    "   ```\n",
    "\n",
    "3. **Crea el archivo `.env` con tu clave API de Gemini**:\n",
    "\n",
    "   Asegúrate de reemplazar `tu_clave_aquí` por tu clave real (empieza por `AIza...`):\n",
    "\n",
    "   ```bash\n",
    "   echo GEMINI_API_KEY=tu_clave_aquí > .env\n",
    "   ```\n",
    "\n",
    "4. **Lanza el servidor web del agente**:\n",
    "\n",
    "   ```bash\n",
    "   adk web\n",
    "   ```\n",
    "\n",
    "5. **Abre el navegador en** [http://localhost:8000](http://localhost:8000)\n",
    "\n",
    "   Aquí podrás interactuar con tu agente \"Greeting Agent\" desde la interfaz visual que se abre.\n"
   ]
  }
 ],
 "metadata": {},
 "nbformat": 4,
 "nbformat_minor": 5
}